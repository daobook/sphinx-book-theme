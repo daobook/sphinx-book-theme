{
 "cells": [
  {
   "cell_type": "markdown",
   "id": "42200749",
   "metadata": {},
   "source": [
    "# Jupyter notebooks\n",
    "\n",
    "You can also create content with Jupyter Notebooks, using the [MyST-NB Sphinx extension](https://myst-nb.readthedocs.io/en/latest/).\n",
    "\n",
    "This page demonstrates some extra functionality that works with this theme.\n",
    "\n",
    "## Markdown + notebooks\n",
    "\n",
    "As it is markdown, you can embed images, HTML, etc into your posts!\n",
    "\n",
    "![](./images/cool.jpg)\n",
    "\n",
    "You an also $add_{math}$ and\n",
    "\n",
    "$$\n",
    "math^{blocks}\n",
    "$$\n",
    "\n",
    "or\n",
    "\n",
    "$$\n",
    "\\begin{align*}\n",
    "\\mbox{mean} la_{tex} \\\\ \\\\\n",
    "math blocks\n",
    "\\end{align*}\n",
    "$$\n",
    "\n",
    "But make sure you \\$Escape \\$your \\$dollar signs \\$you want to keep!\n",
    "\n",
    "## Code blocks and image outputs\n",
    "\n",
    "Jupyter Book will also embed your code blocks and output in your book.\n",
    "For example, here's some sample Matplotlib code:"
   ]
  },
  {
   "cell_type": "code",
   "execution_count": null,
   "id": "697a39a1",
   "metadata": {
    "tags": [
     "hide-cell",
     "thebe-init"
    ]
   },
   "outputs": [],
   "source": [
    "from matplotlib import rcParams, cycler\n",
    "import matplotlib.pyplot as plt\n",
    "import numpy as np"
   ]
  },
  {
   "cell_type": "code",
   "execution_count": null,
   "id": "23815599",
   "metadata": {},
   "outputs": [],
   "source": [
    "# Fixing random state for reproducibility\n",
    "np.random.seed(19680801)\n",
    "\n",
    "N = 10\n",
    "data = [np.logspace(0, 1, 100) + np.random.randn(100) + ii for ii in range(N)]\n",
    "data = np.array(data).T\n",
    "cmap = plt.cm.coolwarm\n",
    "rcParams['axes.prop_cycle'] = cycler(color=cmap(np.linspace(0, 1, N)))\n",
    "\n",
    "\n",
    "from matplotlib.lines import Line2D\n",
    "custom_lines = [Line2D([0], [0], color=cmap(0.), lw=4),\n",
    "                Line2D([0], [0], color=cmap(.5), lw=4),\n",
    "                Line2D([0], [0], color=cmap(1.), lw=4)]\n",
    "\n",
    "fig, ax = plt.subplots(figsize=(10, 5))\n",
    "lines = ax.plot(data)\n",
    "ax.legend(custom_lines, ['Cold', 'Medium', 'Hot']);"
   ]
  },
  {
   "cell_type": "markdown",
   "id": "ed75e632",
   "metadata": {},
   "source": [
    "Note that the image above is captured and displayed."
   ]
  },
  {
   "cell_type": "code",
   "execution_count": null,
   "id": "c1de8114",
   "metadata": {
    "tags": [
     "remove_input"
    ]
   },
   "outputs": [],
   "source": [
    "# Fixing random state for reproducibility\n",
    "np.random.seed(19680801)\n",
    "\n",
    "N = 10\n",
    "data = [np.logspace(0, 1, 100) + .1*np.random.randn(100) + ii for ii in range(N)]\n",
    "data = np.array(data).T\n",
    "cmap = plt.cm.coolwarm\n",
    "rcParams['axes.prop_cycle'] = cycler(color=cmap(np.linspace(0, 1, N)))\n",
    "\n",
    "\n",
    "from matplotlib.lines import Line2D\n",
    "custom_lines = [Line2D([0], [0], color=cmap(0.), lw=4),\n",
    "                Line2D([0], [0], color=cmap(.5), lw=4),\n",
    "                Line2D([0], [0], color=cmap(1.), lw=4)]\n",
    "\n",
    "fig, ax = plt.subplots(figsize=(10, 5))\n",
    "lines = ax.plot(data)\n",
    "ax.legend(custom_lines, ['Cold', 'Medium', 'Hot'])\n",
    "ax.set(title=\"Smoother lines\");"
   ]
  },
  {
   "cell_type": "markdown",
   "id": "e76fab94",
   "metadata": {},
   "source": [
    "```{margin} You can also pop out content to the margin\n",
    "For more information on how to do this,\n",
    "check out [](content-blocks.md).\n",
    "```"
   ]
  },
  {
   "cell_type": "code",
   "execution_count": null,
   "id": "6606b0b8",
   "metadata": {
    "tags": [
     "margin"
    ]
   },
   "outputs": [],
   "source": [
    "print(\"this works for code cells too, if you add a `margin` tag to them\")"
   ]
  },
  {
   "cell_type": "code",
   "execution_count": null,
   "id": "29c8cf8d",
   "metadata": {},
   "outputs": [],
   "source": [
    "# You can also include enriched outputs like Math\n",
    "from IPython.display import Math\n",
    "Math(\"\\sum_{i=0}^n i^2 = \\frac{(n^2+n)(2n+1)}{6}\")"
   ]
  },
  {
   "cell_type": "markdown",
   "id": "cdf5b384",
   "metadata": {},
   "source": [
    "## Removing content before publishing\n",
    "\n",
    "You can also remove some content before publishing your book to the web. For example,\n",
    "in {download}`./notebooks.md`, there used to be a cell below..."
   ]
  },
  {
   "cell_type": "code",
   "execution_count": null,
   "id": "a6aef481",
   "metadata": {
    "tags": [
     "remove_cell"
    ]
   },
   "outputs": [],
   "source": [
    "thisvariable = \"none of this should show up in the textbook\"\n",
    "\n",
    "fig, ax = plt.subplots()\n",
    "x = np.random.randn(100)\n",
    "y = np.random.randn(100)\n",
    "ax.scatter(x, y, s=np.abs(x*100), c=x, cmap=plt.cm.coolwarm)\n",
    "ax.text(0, .5, thisvariable, fontsize=20, transform=ax.transAxes)\n",
    "ax.set_axis_off()"
   ]
  },
  {
   "cell_type": "markdown",
   "id": "12f39312",
   "metadata": {},
   "source": [
    "You can also **remove only the code** so that images and other output still show up.\n",
    "\n",
    "Below we'll *only* display an image. It was generated with Python code in a cell,\n",
    "which you can [see in the original notebook](https://github.com/jupyter/jupyter-book/blob/master/jupyter_book/book_template/content/features/notebooks.ipynb)"
   ]
  },
  {
   "cell_type": "code",
   "execution_count": null,
   "id": "ec58c099",
   "metadata": {
    "tags": [
     "hide_input"
    ]
   },
   "outputs": [],
   "source": [
    "thisvariable = \"this plot *will* show up in the textbook.\"\n",
    "\n",
    "fig, ax = plt.subplots()\n",
    "x = np.random.randn(100)\n",
    "y = np.random.randn(100)\n",
    "ax.scatter(x, y, s=np.abs(x*100), c=x, cmap=plt.cm.coolwarm)\n",
    "ax.text(0, .5, thisvariable, fontsize=20, transform=ax.transAxes)\n",
    "ax.set_axis_off()"
   ]
  },
  {
   "cell_type": "markdown",
   "id": "3ac8b289",
   "metadata": {},
   "source": [
    "And here we'll *only* display a Pandas DataFrame. Again, this was generated with Python code\n",
    "from [this original notebook](https://github.com/jupyter/textbooks-with-jupyter/blob/master/notebooks/introduction/notebooks.ipynb)."
   ]
  },
  {
   "cell_type": "code",
   "execution_count": null,
   "id": "4d3e284c",
   "metadata": {
    "tags": [
     "hide_input"
    ]
   },
   "outputs": [],
   "source": [
    "import pandas as pd\n",
    "df = pd.DataFrame([['hi', 'there'], ['this', 'is'], ['a', 'DataFrame']], columns=['Word A', 'Word B'])\n",
    "df"
   ]
  },
  {
   "cell_type": "markdown",
   "id": "a67e7093",
   "metadata": {},
   "source": [
    "You can even style Pandas DataFrames!\n",
    "See [the Pandas Styling docs](https://pandas.pydata.org/pandas-docs/stable/user_guide/style.html) for more information."
   ]
  },
  {
   "cell_type": "code",
   "execution_count": null,
   "id": "4631f47f",
   "metadata": {
    "tags": [
     "hide-input"
    ]
   },
   "outputs": [],
   "source": [
    "import pandas as pd\n",
    "\n",
    "np.random.seed(24)\n",
    "df = pd.DataFrame({'A': np.linspace(1, 10, 10)})\n",
    "df = pd.concat([df, pd.DataFrame(np.random.randn(10, 4), columns=list('BCDE'))],\n",
    "               axis=1)\n",
    "df.iloc[3, 3] = np.nan\n",
    "df.iloc[0, 2] = np.nan\n",
    "\n",
    "def color_negative_red(val):\n",
    "    \"\"\"\n",
    "    Takes a scalar and returns a string with\n",
    "    the css property `'color: red'` for negative\n",
    "    strings, black otherwise.\n",
    "    \"\"\"\n",
    "    color = 'red' if val < 0 else 'black'\n",
    "    return 'color: %s' % color\n",
    "\n",
    "def highlight_max(s):\n",
    "    '''\n",
    "    highlight the maximum in a Series yellow.\n",
    "    '''\n",
    "    is_max = s == s.max()\n",
    "    return ['background-color: yellow' if v else '' for v in is_max]\n",
    "\n",
    "df.style.\\\n",
    "    applymap(color_negative_red).\\\n",
    "    apply(highlight_max).\\\n",
    "    set_table_attributes('style=\"font-size: 10px\"')"
   ]
  },
  {
   "cell_type": "markdown",
   "id": "93f4f0f5",
   "metadata": {
    "tags": [
     "popout"
    ]
   },
   "source": [
    "Testing popouts before headers"
   ]
  },
  {
   "cell_type": "markdown",
   "id": "b27cffa5",
   "metadata": {},
   "source": [
    "## Interactive outputs\n",
    "\n",
    "We can even do the same for *interactive* material. Below we'll display a map using [folium](https://python-visualization.github.io/folium/). When the notebook\n",
    "is converted to Markdown, the code for creating the interactive map is retained.\n",
    "\n",
    "**Note that this will only work for some packages.** They need to be able to output standalone HTML/Javascript, and not\n",
    "depend on an underlying Python kernel to work."
   ]
  },
  {
   "cell_type": "code",
   "execution_count": null,
   "id": "9cb2dc1d",
   "metadata": {},
   "outputs": [],
   "source": [
    "import folium"
   ]
  },
  {
   "cell_type": "code",
   "execution_count": null,
   "id": "29b945d6",
   "metadata": {},
   "outputs": [],
   "source": [
    "m = folium.Map(\n",
    "    location=[45.372, -121.6972],\n",
    "    zoom_start=12,\n",
    "    tiles='Stamen Terrain'\n",
    ")\n",
    "\n",
    "folium.Marker(\n",
    "    location=[45.3288, -121.6625],\n",
    "    popup='Mt. Hood Meadows',\n",
    "    icon=folium.Icon(icon='cloud')\n",
    ").add_to(m)\n",
    "\n",
    "folium.Marker(\n",
    "    location=[45.3311, -121.7113],\n",
    "    popup='Timberline Lodge',\n",
    "    icon=folium.Icon(color='green')\n",
    ").add_to(m)\n",
    "\n",
    "folium.Marker(\n",
    "    location=[45.3300, -121.6823],\n",
    "    popup='Some Other Location',\n",
    "    icon=folium.Icon(color='red', icon='info-sign')\n",
    ").add_to(m)\n",
    "\n",
    "\n",
    "m"
   ]
  },
  {
   "cell_type": "markdown",
   "id": "69551376",
   "metadata": {},
   "source": [
    "## Rich outputs from notebook cells"
   ]
  },
  {
   "cell_type": "markdown",
   "id": "546d50d5",
   "metadata": {},
   "source": [
    "Because notebooks have rich text outputs, you can store these in\n",
    "your Jupyter Book as well!"
   ]
  },
  {
   "cell_type": "code",
   "execution_count": null,
   "id": "51d58c4c",
   "metadata": {},
   "outputs": [],
   "source": [
    "# The ! causes this to run as a shell command\n",
    "!jupyter -h"
   ]
  },
  {
   "cell_type": "markdown",
   "id": "bde3e0cc",
   "metadata": {},
   "source": [
    "## Formatting code cells\n",
    "\n",
    "### Scrolling cell outputs\n",
    "\n",
    "The traditional Jupyter Notebook interface allows you to toggle **output scrolling**\n",
    "for your cells. This allows you to visualize part of a long output without it taking up\n",
    "the entire page.\n",
    "\n",
    "You can trigger this behavior in Jupyter Book by adding the following\n",
    "tag to a cell's metadata:\n",
    "\n",
    "```json\n",
    "{\n",
    "    \"tags\": [\n",
    "        \"scroll-output\",\n",
    "    ]\n",
    "}\n",
    "```\n",
    "\n",
    "For example, the following cell has a long output, but will be scrollable in the book:"
   ]
  },
  {
   "cell_type": "code",
   "execution_count": null,
   "id": "353f7984",
   "metadata": {
    "tags": [
     "output_scroll"
    ]
   },
   "outputs": [],
   "source": [
    "for ii in range(40):\n",
    "    print(f\"this is output line {ii}\")"
   ]
  },
  {
   "cell_type": "markdown",
   "id": "36f54cf6",
   "metadata": {},
   "source": [
    "### Scrolling cell inputs\n",
    "\n",
    "If your input code is long and takes up a lot of your page, you can make it scrollable\n",
    "as well by adding the following tag to a cell's metadata:\n",
    "\n",
    "```json\n",
    "{\n",
    "    \"tags\": [\n",
    "        \"scroll-input\",\n",
    "    ]\n",
    "}\n",
    "```\n",
    "\n",
    "For example, the following cell has a long input, but will be scrollable in the book:"
   ]
  },
  {
   "cell_type": "code",
   "execution_count": null,
   "id": "8183463f",
   "metadata": {
    "tags": [
     "scroll-input"
    ]
   },
   "outputs": [],
   "source": [
    "b = \"This line has no meaning\"\n",
    "b = \"This line has no meaning\"\n",
    "b = \"This line has no meaning\"\n",
    "b = \"This line has no meaning\"\n",
    "b = \"This line has no meaning\"\n",
    "b = \"This line has no meaning\"\n",
    "b = \"This line has no meaning\"\n",
    "b = \"This line has no meaning\"\n",
    "b = \"This line has no meaning\"\n",
    "b = \"This line has no meaning\"\n",
    "b = \"This line has no meaning\"\n",
    "b = \"This line has no meaning\"\n",
    "b = \"This line has no meaning\"\n",
    "b = \"This line has no meaning\"\n",
    "b = \"This line has no meaning\"\n",
    "b = \"This line has no meaning\"\n",
    "b = \"This line has no meaning\"\n",
    "b = \"This line has no meaning\"\n",
    "b = \"This line has no meaning\"\n",
    "b = \"This line has no meaning\"\n",
    "b = \"This line has no meaning\"\n",
    "print(b)"
   ]
  }
 ],
 "metadata": {
  "jupytext": {
   "formats": "ipynb,md:myst",
   "text_representation": {
    "extension": ".md",
    "format_name": "myst",
    "format_version": 0.12,
    "jupytext_version": "1.8.2"
   }
  },
  "kernelspec": {
   "display_name": "Python 3",
   "language": "python",
   "name": "python3"
  },
  "source_map": [
   13,
   49,
   57,
   76,
   80,
   102,
   109,
   115,
   119,
   126,
   137,
   144,
   155,
   160,
   166,
   171,
   205,
   209,
   219,
   223,
   250,
   254,
   259,
   262,
   287,
   291,
   310
  ]
 },
 "nbformat": 4,
 "nbformat_minor": 5
}