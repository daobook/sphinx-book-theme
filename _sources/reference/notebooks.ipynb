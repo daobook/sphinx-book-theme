{
 "cells": [
  {
   "cell_type": "markdown",
   "id": "5171e175",
   "metadata": {},
   "source": [
    "# Jupyter notebooks\n",
    "\n",
    "This is a page to demonstrate the look and feel of Jupyter Notebook elements.\n",
    "\n",
    "\n",
    "## Hiding elements\n",
    "\n",
    "### Hiding inputs"
   ]
  },
  {
   "cell_type": "code",
   "execution_count": null,
   "id": "1eef9376",
   "metadata": {
    "tags": [
     "remove_cell"
    ]
   },
   "outputs": [],
   "source": [
    "# Generate some code that we'll use later on in the page\n",
    "import numpy as np\n",
    "import matplotlib.pyplot as plt\n",
    "\n",
    "square = np.random.randn(100, 100)\n",
    "wide = np.random.randn(100, 1000)"
   ]
  },
  {
   "cell_type": "code",
   "execution_count": null,
   "id": "14a0ec19",
   "metadata": {
    "tags": [
     "hide_input"
    ]
   },
   "outputs": [],
   "source": [
    "# Hide input\n",
    "square = np.random.randn(100, 100)\n",
    "wide = np.random.randn(100, 1000)\n",
    "\n",
    "fig, ax = plt.subplots()\n",
    "ax.imshow(square)\n",
    "\n",
    "fig, ax = plt.subplots()\n",
    "ax.imshow(wide)"
   ]
  },
  {
   "cell_type": "markdown",
   "id": "3871ede4",
   "metadata": {},
   "source": [
    "### Hiding outputs"
   ]
  },
  {
   "cell_type": "code",
   "execution_count": null,
   "id": "def6d617",
   "metadata": {
    "tags": [
     "hide_output"
    ]
   },
   "outputs": [],
   "source": [
    "# Hide input\n",
    "square = np.random.randn(100, 100)\n",
    "wide = np.random.randn(100, 1000)\n",
    "\n",
    "fig, ax = plt.subplots()\n",
    "ax.imshow(square)\n",
    "\n",
    "fig, ax = plt.subplots()\n",
    "ax.imshow(wide)"
   ]
  },
  {
   "cell_type": "markdown",
   "id": "4a361f26",
   "metadata": {},
   "source": [
    "### Hiding markdown\n",
    "\n",
    "````{toggle}\n",
    "```{note}\n",
    "This is a hidden markdown cell\n",
    "\n",
    "It should be hidden!\n",
    "```\n",
    "````\n",
    "\n",
    "```{admonition} And here's a toggleable note\n",
    ":class: dropdown\n",
    "With a body!\n",
    "```"
   ]
  },
  {
   "cell_type": "markdown",
   "id": "9191099a",
   "metadata": {},
   "source": [
    "### Hiding both inputs and outputs"
   ]
  },
  {
   "cell_type": "code",
   "execution_count": null,
   "id": "1a8e7c1e",
   "metadata": {
    "tags": [
     "hide_output",
     "hide_input"
    ]
   },
   "outputs": [],
   "source": [
    "square = np.random.randn(100, 100)\n",
    "wide = np.random.randn(100, 1000)\n",
    "\n",
    "fig, ax = plt.subplots()\n",
    "ax.imshow(square)\n",
    "\n",
    "fig, ax = plt.subplots()\n",
    "ax.imshow(wide)"
   ]
  },
  {
   "cell_type": "markdown",
   "id": "a04d1448",
   "metadata": {},
   "source": [
    "### Hiding the whole cell"
   ]
  },
  {
   "cell_type": "code",
   "execution_count": null,
   "id": "2fe13099",
   "metadata": {
    "tags": [
     "hide_cell"
    ]
   },
   "outputs": [],
   "source": [
    "square = np.random.randn(100, 100)\n",
    "wide = np.random.randn(100, 1000)\n",
    "\n",
    "fig, ax = plt.subplots()\n",
    "ax.imshow(square)\n",
    "\n",
    "fig, ax = plt.subplots()\n",
    "ax.imshow(wide)"
   ]
  },
  {
   "cell_type": "markdown",
   "id": "68cc04ae",
   "metadata": {},
   "source": [
    "## Enriched outputs\n",
    "\n",
    "### Math"
   ]
  },
  {
   "cell_type": "code",
   "execution_count": null,
   "id": "2feb8bff",
   "metadata": {},
   "outputs": [],
   "source": [
    "# You can also include enriched outputs like Math\n",
    "from IPython.display import Math\n",
    "Math(\"\\sum_{i=0}^n i^2 = \\frac{(n^2+n)(2n+1)}{6}\")"
   ]
  },
  {
   "cell_type": "markdown",
   "id": "b9218d6d",
   "metadata": {},
   "source": [
    "### Pandas DataFrames"
   ]
  },
  {
   "cell_type": "code",
   "execution_count": null,
   "id": "184a7cf0",
   "metadata": {},
   "outputs": [],
   "source": [
    "import pandas as pd\n",
    "df = pd.DataFrame([['hi', 'there'], ['this', 'is'], ['a', 'DataFrame']], columns=['Word A', 'Word B'])\n",
    "df"
   ]
  },
  {
   "cell_type": "markdown",
   "id": "8edc0714",
   "metadata": {},
   "source": [
    "Styled DataFrames (see [the Pandas Styling docs](https://pandas.pydata.org/pandas-docs/stable/user_guide/style.html))."
   ]
  },
  {
   "cell_type": "code",
   "execution_count": null,
   "id": "1a74a1a9",
   "metadata": {
    "tags": [
     "hide-input"
    ]
   },
   "outputs": [],
   "source": [
    "import pandas as pd\n",
    "\n",
    "np.random.seed(24)\n",
    "df = pd.DataFrame({'A': np.linspace(1, 10, 10)})\n",
    "df = pd.concat([df, pd.DataFrame(np.random.randn(10, 4), columns=list('BCDE'))],\n",
    "               axis=1)\n",
    "df.iloc[3, 3] = np.nan\n",
    "df.iloc[0, 2] = np.nan\n",
    "\n",
    "def color_negative_red(val):\n",
    "    \"\"\"\n",
    "    Takes a scalar and returns a string with\n",
    "    the css property `'color: red'` for negative\n",
    "    strings, black otherwise.\n",
    "    \"\"\"\n",
    "    color = 'red' if val < 0 else 'black'\n",
    "    return 'color: %s' % color\n",
    "\n",
    "def highlight_max(s):\n",
    "    '''\n",
    "    highlight the maximum in a Series yellow.\n",
    "    '''\n",
    "    is_max = s == s.max()\n",
    "    return ['background-color: yellow' if v else '' for v in is_max]\n",
    "\n",
    "df.style.\\\n",
    "    applymap(color_negative_red).\\\n",
    "    apply(highlight_max).\\\n",
    "    set_table_attributes('style=\"font-size: 10px\"')"
   ]
  },
  {
   "cell_type": "markdown",
   "id": "9d5edd5d",
   "metadata": {},
   "source": [
    "## Interactive outputs\n",
    "\n",
    "### Folium"
   ]
  },
  {
   "cell_type": "code",
   "execution_count": null,
   "id": "ce179e67",
   "metadata": {},
   "outputs": [],
   "source": [
    "import folium"
   ]
  },
  {
   "cell_type": "code",
   "execution_count": null,
   "id": "23cd5328",
   "metadata": {},
   "outputs": [],
   "source": [
    "m = folium.Map(\n",
    "    location=[45.372, -121.6972],\n",
    "    zoom_start=12,\n",
    "    tiles='Stamen Terrain'\n",
    ")\n",
    "\n",
    "folium.Marker(\n",
    "    location=[45.3288, -121.6625],\n",
    "    popup='Mt. Hood Meadows',\n",
    "    icon=folium.Icon(icon='cloud')\n",
    ").add_to(m)\n",
    "\n",
    "folium.Marker(\n",
    "    location=[45.3311, -121.7113],\n",
    "    popup='Timberline Lodge',\n",
    "    icon=folium.Icon(color='green')\n",
    ").add_to(m)\n",
    "\n",
    "folium.Marker(\n",
    "    location=[45.3300, -121.6823],\n",
    "    popup='Some Other Location',\n",
    "    icon=folium.Icon(color='red', icon='info-sign')\n",
    ").add_to(m)\n",
    "\n",
    "\n",
    "m"
   ]
  },
  {
   "cell_type": "markdown",
   "id": "0a5af8a8",
   "metadata": {},
   "source": [
    "## Stdout"
   ]
  },
  {
   "cell_type": "code",
   "execution_count": null,
   "id": "3d16d33e",
   "metadata": {},
   "outputs": [],
   "source": [
    "# The ! causes this to run as a shell command\n",
    "!jupyter -h"
   ]
  },
  {
   "cell_type": "markdown",
   "id": "63376d51",
   "metadata": {},
   "source": [
    "## Formatting code cells\n",
    "\n",
    "### Scrolling cell outputs"
   ]
  },
  {
   "cell_type": "code",
   "execution_count": null,
   "id": "047bff2e",
   "metadata": {
    "tags": [
     "output_scroll"
    ]
   },
   "outputs": [],
   "source": [
    "for ii in range(40):\n",
    "    print(f\"this is output line {ii}\")"
   ]
  },
  {
   "cell_type": "markdown",
   "id": "bef98035",
   "metadata": {},
   "source": [
    "### Scrolling cell inputs"
   ]
  },
  {
   "cell_type": "code",
   "execution_count": null,
   "id": "d0bc46f3",
   "metadata": {
    "tags": [
     "scroll-input"
    ]
   },
   "outputs": [],
   "source": [
    "b = \"This line has no meaning\"\n",
    "b = \"This line has no meaning\"\n",
    "b = \"This line has no meaning\"\n",
    "b = \"This line has no meaning\"\n",
    "b = \"This line has no meaning\"\n",
    "b = \"This line has no meaning\"\n",
    "b = \"This line has no meaning\"\n",
    "b = \"This line has no meaning\"\n",
    "b = \"This line has no meaning\"\n",
    "b = \"This line has no meaning\"\n",
    "b = \"This line has no meaning\"\n",
    "b = \"This line has no meaning\"\n",
    "b = \"This line has no meaning\"\n",
    "b = \"This line has no meaning\"\n",
    "b = \"This line has no meaning\"\n",
    "b = \"This line has no meaning\"\n",
    "b = \"This line has no meaning\"\n",
    "b = \"This line has no meaning\"\n",
    "b = \"This line has no meaning\"\n",
    "b = \"This line has no meaning\"\n",
    "b = \"This line has no meaning\"\n",
    "print(b)"
   ]
  }
 ],
 "metadata": {
  "jupytext": {
   "formats": "ipynb,md:myst",
   "text_representation": {
    "extension": ".md",
    "format_name": "myst",
    "format_version": 0.12,
    "jupytext_version": "1.8.2"
   }
  },
  "kernelspec": {
   "display_name": "Python 3",
   "language": "python",
   "name": "python3"
  },
  "source_map": [
   13,
   24,
   35,
   47,
   51,
   63,
   80,
   84,
   95,
   99,
   110,
   116,
   120,
   125,
   130,
   134,
   166,
   172,
   176,
   203,
   207,
   210,
   216,
   220,
   224
  ]
 },
 "nbformat": 4,
 "nbformat_minor": 5
}