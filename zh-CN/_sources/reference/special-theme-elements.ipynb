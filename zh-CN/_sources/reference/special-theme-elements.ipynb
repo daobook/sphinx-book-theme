{
 "cells": [
  {
   "cell_type": "markdown",
   "id": "761dc0e4",
   "metadata": {},
   "source": [
    "# Theme-specific elements\n",
    "\n",
    "This page contains a number of reference elements to see how they look in this\n",
    "theme. The information is not meant to be easy to read or understand, just browse\n",
    "through and see how things look!\n",
    "\n",
    "## Blog post list\n",
    "\n",
    "Here's a sample post list:\n",
    "\n",
    "```{postlist}\n",
    ":date: \"%Y-%m-%d\"\n",
    ":format: \"{date} - {title}\"\n",
    ":excerpts:\n",
    "```"
   ]
  },
  {
   "cell_type": "markdown",
   "id": "f8e62945",
   "metadata": {},
   "source": [
    "## Full-width elements\n",
    "### Code cells"
   ]
  },
  {
   "cell_type": "code",
   "execution_count": null,
   "id": "04ba095c",
   "metadata": {
    "tags": [
     "remove_cell"
    ]
   },
   "outputs": [],
   "source": [
    "# Generate some code that we'll use later on in the page\n",
    "import numpy as np\n",
    "import matplotlib.pyplot as plt\n",
    "\n",
    "square = np.random.randn(100, 100)\n",
    "wide = np.random.randn(100, 1000)"
   ]
  },
  {
   "cell_type": "code",
   "execution_count": null,
   "id": "13f54f8e",
   "metadata": {
    "tags": [
     "full_width"
    ]
   },
   "outputs": [],
   "source": [
    "## A full-width square figure\n",
    "fig, ax = plt.subplots()\n",
    "ax.imshow(square)"
   ]
  },
  {
   "cell_type": "code",
   "execution_count": null,
   "id": "a2465954",
   "metadata": {
    "tags": [
     "full_width"
    ]
   },
   "outputs": [],
   "source": [
    "## A full-width wide figure\n",
    "fig, ax = plt.subplots()\n",
    "ax.imshow(wide)"
   ]
  },
  {
   "cell_type": "code",
   "execution_count": null,
   "id": "fb387d12",
   "metadata": {},
   "outputs": [],
   "source": [
    "# Now here's the same figure at regular width\n",
    "fig, ax = plt.subplots()\n",
    "ax.imshow(wide)"
   ]
  },
  {
   "cell_type": "markdown",
   "id": "f322755a",
   "metadata": {},
   "source": [
    "### Markdown"
   ]
  },
  {
   "cell_type": "markdown",
   "id": "0ed7c60c",
   "metadata": {
    "tags": [
     "full_width"
    ]
   },
   "source": [
    "This is some markdown that should be shown at full width.\n",
    "\n",
    "Here's the Jupyter logo:\n",
    "\n",
    "![](https://raw.githubusercontent.com/adebar/awesome-jupyter/master/logo.png)"
   ]
  },
  {
   "cell_type": "markdown",
   "id": "c9b1dfbf",
   "metadata": {
    "tags": [
     "full_width"
    ]
   },
   "source": [
    "### Mathematics\n",
    "\n",
    "\\begin{equation}\n",
    "  \\int_0^\\infty \\frac{x^3}{e^x-1}\\,dx = \\frac{\\pi^4}{15}\n",
    "\\end{equation}\n",
    "\n",
    "$$\n",
    "  \\int_0^\\infty \\frac{x^3}{e^x-1}\\,dx = \\frac{\\pi^4}{15}\n",
    "$$\n",
    "\n",
    "\n",
    "```{math}\n",
    ":label: my_label\n",
    "w_{t+1} = (1 + r_{t+1}) s(w_t) + y_{t+1}\n",
    "```\n",
    "\n",
    "Link to above: {eq}`my_label`\n",
    "\n",
    "```{math}\n",
    ":label: my_label2\n",
    "w_{t+1} = (1 + r_{t+1}) s(w_t) + y_{t+1} \\\\\n",
    "w_{t+1} = (1 + r_{t+1}) s(w_t) + y_{t+1} \\\\\n",
    "w_{t+1} = (1 + r_{t+1}) s(w_t) + y_{t+1}\n",
    "```\n",
    "\n",
    "Link to above: {eq}`my_label2`\n",
    "\n",
    "* $$\n",
    "\\mathcal{O}(f) = \\{ g |\n",
    "    \\exists c > 0,\n",
    "    \\exists n_0 \\in \\mathbb{N}_0,\n",
    "    \\forall n \\geq n_0\n",
    "        :\n",
    "    [g(n) \\leq c \\cdot f(n)]\\}$$\n",
    "\n",
    "A really long math equation\n",
    "\n",
    "$$\n",
    "\\begin{align}\n",
    "\\mathrm{SetConv} \\left( \\{(x^{c},y^{c})\\}_{c=1}^{C} \\right)(x) \\left( \\{(x^{c},y^{c})\\}_{c=1}^{C} \\right)(x) \\left( \\{(x^{c},y^{c})\\}_{c=1}^{C} \\right)(x)\n",
    "&= \\sum_{c=1}^{C} y^{(c)} w_{\\theta} \\left( x - x^{(c)} \\right)  \\sum_{c=1}^{C} y^{(c)} w_{\\theta} \\left( x - x^{(c)} \\right) \\sum_{c=1}^{C} y^{(c)} w_{\\theta} \\left( x - x^{(c)} \\right)\\\\\n",
    "&= \\left( y^{(c')} w_{\\theta} \\left( x - x^{(c')} \\right) \\right) + \\sum_{c \\neq c'}  y^{(c)} w_{\\theta} \\left( x - x^{(c)} \\right) \\\\\n",
    "&= 0 + \\sum_{c \\neq c'}  y^{(c)} w_{\\theta} \\left( x - x^{(c)} \\right)\n",
    "\\end{align}\n",
    "$$\n",
    "\n",
    "Full width equations work\n",
    "\n",
    "```{math}\n",
    ":class: full-width\n",
    "\n",
    "\\begin{align}\n",
    "\\mathrm{SetConv} \\left( \\{(x^{c},y^{c})\\}_{c=1}^{C} \\right)(x) \\left( \\{(x^{c},y^{c})\\}_{c=1}^{C} \\right)(x) \\left( \\{(x^{c},y^{c})\\}_{c=1}^{C} \\right)(x)\n",
    "&= \\sum_{c=1}^{C} y^{(c)} w_{\\theta} \\left( x - x^{(c)} \\right)  \\sum_{c=1}^{C} y^{(c)} w_{\\theta} \\left( x - x^{(c)} \\right) \\sum_{c=1}^{C} y^{(c)} w_{\\theta} \\left( x - x^{(c)} \\right)\\\\\n",
    "&= \\left( y^{(c')} w_{\\theta} \\left( x - x^{(c')} \\right) \\right) + \\sum_{c \\neq c'}  y^{(c)} w_{\\theta} \\left( x - x^{(c)} \\right) \\\\\n",
    "&= 0 + \\sum_{c \\neq c'}  y^{(c)} w_{\\theta} \\left( x - x^{(c)} \\right)\n",
    "\\end{align}\n",
    "```"
   ]
  },
  {
   "cell_type": "markdown",
   "id": "2354dcc9",
   "metadata": {},
   "source": [
    "## Margins"
   ]
  },
  {
   "cell_type": "markdown",
   "id": "913a2c68",
   "metadata": {},
   "source": [
    "Margin content can include all kinds of things, such as code blocks:\n",
    "\n",
    "````{margin} Code blocks in margins\n",
    "```python\n",
    "print(\"here is some python\")\n",
    "```\n",
    "````\n",
    "\n",
    "as well as admonitions and images:\n",
    "\n",
    "````{margin} **Notes in margins**\n",
    "```{note}\n",
    "Wow, a note with an image in a margin!\n",
    "![](../images/cool.jpg)\n",
    "```\n",
    "````\n",
    "\n",
    "### Margin under lower level shouldn't have different left-alignment\n",
    "\n",
    "````{margin} **Notes in margins**\n",
    "```{note}\n",
    "Wow, a note with an image in a margin!\n",
    "![](../images/cool.jpg)\n",
    "```\n",
    "````\n",
    "\n",
    "### Margins with toggle buttons\n",
    "\n",
    "Here's some margin content, let's see how it interacts w/ the toggle button\n",
    "\n",
    "```{margin} My margin\n",
    "Here's my margin content\n",
    "```\n",
    "\n",
    "Here's a toggleable note:\n",
    "\n",
    "```{note}\n",
    ":class: toggle\n",
    "My note\n",
    "```\n",
    "\n",
    "### Margins with full-width content\n",
    "\n",
    "```{note}\n",
    ":class: tag_fullwidth\n",
    "This is my test\n",
    "```\n",
    "\n",
    "Let's see what happens"
   ]
  },
  {
   "cell_type": "code",
   "execution_count": null,
   "id": "920ba115",
   "metadata": {
    "tags": [
     "popout"
    ]
   },
   "outputs": [],
   "source": [
    "## code cell in the margin with output\n",
    "fig, ax = plt.subplots()\n",
    "ax.imshow(wide)"
   ]
  },
  {
   "cell_type": "markdown",
   "id": "8eb7c3bc",
   "metadata": {
    "tags": [
     "popout"
    ]
   },
   "source": [
    "Markdown cell with code in margin\n",
    "\n",
    "```python\n",
    "a = 2\n",
    "b = 3\n",
    "def aplusb(a, b):\n",
    "    return a+b\n",
    "```\n",
    "and now r\n",
    "\n",
    "```r\n",
    "a <- 2\n",
    "b <- 4\n",
    "a+b\n",
    "```\n",
    "\n",
    "how does it look?\n",
    "\n",
    "Markdown cell with images in sidebar\n",
    "\n",
    "<img src=\"https://upload.wikimedia.org/wikipedia/commons/thumb/3/38/Jupyter_logo.svg/883px-Jupyter_logo.svg.png\" style=\"max-width:200px\" />"
   ]
  },
  {
   "cell_type": "markdown",
   "id": "d80ba5d5",
   "metadata": {},
   "source": [
    "### More content after the popouts\n",
    "\n",
    "This is extra content after the popouts to see if cells overlap and such.\n",
    "Also to make sure you can still interact with the popout content.\n",
    "This is extra content after the popouts to see if cells overlap and such.\n",
    "Also to make sure you can still interact with the popout content.\n",
    "\n",
    "```python\n",
    "a = 2\n",
    "```\n",
    "\n",
    "This is extra content after the popouts to see if cells overlap and such.\n",
    "Also to make sure you can still interact with the popout content.\n",
    "This is extra content after the popouts to see if cells overlap and such.\n",
    "Also to make sure you can still interact with the popout content.\n",
    "This is extra content after the popouts to see if cells overlap and such.\n",
    "Also to make sure you can still interact with the popout content."
   ]
  }
 ],
 "metadata": {
  "execution": {
   "timeout": -1
  },
  "jupytext": {
   "text_representation": {
    "extension": ".md",
    "format_name": "myst",
    "format_version": "0.8",
    "jupytext_version": "1.4.1+dev"
   }
  },
  "kernelspec": {
   "display_name": "Python 3",
   "language": "python",
   "name": "python3"
  },
  "source_map": [
   15,
   33,
   38,
   49,
   57,
   65,
   69,
   73,
   81,
   142,
   146,
   198,
   206,
   230
  ]
 },
 "nbformat": 4,
 "nbformat_minor": 5
}