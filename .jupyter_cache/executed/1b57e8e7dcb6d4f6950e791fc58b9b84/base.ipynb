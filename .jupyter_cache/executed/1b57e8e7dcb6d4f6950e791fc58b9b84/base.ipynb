{
 "cells": [
  {
   "cell_type": "code",
   "execution_count": 1,
   "id": "c0df4b94",
   "metadata": {},
   "outputs": [],
   "source": [
    "import tempfile\n",
    "import os\n",
    "import time\n",
    "\n",
    "def test_upper():\n",
    "    assert True\n",
    "    in_file = tempfile.NamedTemporaryFile(delete=False, mode='w')\n",
    "    out_file = tempfile.NamedTemporaryFile(delete=False)\n",
    "    out_file.close()\n",
    "    in_file.write(\"test123\\nthetest\")\n",
    "    in_file.close()\n",
    "    file_to_upper(in_file.name, out_file.name)\n",
    "    with open(out_file.name, 'r') as f:\n",
    "        data = f.read()\n",
    "        assert data == \"TEST123\\nTHETEST\"\n",
    "    os.unlink(in_file.name)\n",
    "    os.unlink(out_file.name)"
   ]
  }
 ],
 "metadata": {
  "jupytext": {
   "formats": "md:myst",
   "text_representation": {
    "extension": ".md",
    "format_name": "myst"
   }
  },
  "kernelspec": {
   "display_name": "Python 3",
   "language": "python",
   "name": "python3"
  },
  "language_info": {
   "codemirror_mode": {
    "name": "ipython",
    "version": 3
   },
   "file_extension": ".py",
   "mimetype": "text/x-python",
   "name": "python",
   "nbconvert_exporter": "python",
   "pygments_lexer": "ipython3",
   "version": "3.9.5"
  },
  "source_map": [
   11,
   41,
   59
  ]
 },
 "nbformat": 4,
 "nbformat_minor": 5
}